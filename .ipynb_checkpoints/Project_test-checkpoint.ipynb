{
 "cells": [
  {
   "cell_type": "markdown",
   "metadata": {},
   "source": [
    "# BUILDING THE MODEL"
   ]
  },
  {
   "cell_type": "markdown",
   "metadata": {},
   "source": [
    "# Importing Libraries"
   ]
  },
  {
   "cell_type": "code",
   "execution_count": 1,
   "metadata": {},
   "outputs": [
    {
     "name": "stderr",
     "output_type": "stream",
     "text": [
      "Using TensorFlow backend.\n",
      "C:\\Users\\RAMKI ASMATH\\anaconda3\\lib\\site-packages\\tensorflow\\python\\framework\\dtypes.py:516: FutureWarning: Passing (type, 1) or '1type' as a synonym of type is deprecated; in a future version of numpy, it will be understood as (type, (1,)) / '(1,)type'.\n",
      "  _np_qint8 = np.dtype([(\"qint8\", np.int8, 1)])\n",
      "C:\\Users\\RAMKI ASMATH\\anaconda3\\lib\\site-packages\\tensorflow\\python\\framework\\dtypes.py:517: FutureWarning: Passing (type, 1) or '1type' as a synonym of type is deprecated; in a future version of numpy, it will be understood as (type, (1,)) / '(1,)type'.\n",
      "  _np_quint8 = np.dtype([(\"quint8\", np.uint8, 1)])\n",
      "C:\\Users\\RAMKI ASMATH\\anaconda3\\lib\\site-packages\\tensorflow\\python\\framework\\dtypes.py:518: FutureWarning: Passing (type, 1) or '1type' as a synonym of type is deprecated; in a future version of numpy, it will be understood as (type, (1,)) / '(1,)type'.\n",
      "  _np_qint16 = np.dtype([(\"qint16\", np.int16, 1)])\n",
      "C:\\Users\\RAMKI ASMATH\\anaconda3\\lib\\site-packages\\tensorflow\\python\\framework\\dtypes.py:519: FutureWarning: Passing (type, 1) or '1type' as a synonym of type is deprecated; in a future version of numpy, it will be understood as (type, (1,)) / '(1,)type'.\n",
      "  _np_quint16 = np.dtype([(\"quint16\", np.uint16, 1)])\n",
      "C:\\Users\\RAMKI ASMATH\\anaconda3\\lib\\site-packages\\tensorflow\\python\\framework\\dtypes.py:520: FutureWarning: Passing (type, 1) or '1type' as a synonym of type is deprecated; in a future version of numpy, it will be understood as (type, (1,)) / '(1,)type'.\n",
      "  _np_qint32 = np.dtype([(\"qint32\", np.int32, 1)])\n",
      "C:\\Users\\RAMKI ASMATH\\anaconda3\\lib\\site-packages\\tensorflow\\python\\framework\\dtypes.py:525: FutureWarning: Passing (type, 1) or '1type' as a synonym of type is deprecated; in a future version of numpy, it will be understood as (type, (1,)) / '(1,)type'.\n",
      "  np_resource = np.dtype([(\"resource\", np.ubyte, 1)])\n",
      "C:\\Users\\RAMKI ASMATH\\anaconda3\\lib\\site-packages\\tensorboard\\compat\\tensorflow_stub\\dtypes.py:541: FutureWarning: Passing (type, 1) or '1type' as a synonym of type is deprecated; in a future version of numpy, it will be understood as (type, (1,)) / '(1,)type'.\n",
      "  _np_qint8 = np.dtype([(\"qint8\", np.int8, 1)])\n",
      "C:\\Users\\RAMKI ASMATH\\anaconda3\\lib\\site-packages\\tensorboard\\compat\\tensorflow_stub\\dtypes.py:542: FutureWarning: Passing (type, 1) or '1type' as a synonym of type is deprecated; in a future version of numpy, it will be understood as (type, (1,)) / '(1,)type'.\n",
      "  _np_quint8 = np.dtype([(\"quint8\", np.uint8, 1)])\n",
      "C:\\Users\\RAMKI ASMATH\\anaconda3\\lib\\site-packages\\tensorboard\\compat\\tensorflow_stub\\dtypes.py:543: FutureWarning: Passing (type, 1) or '1type' as a synonym of type is deprecated; in a future version of numpy, it will be understood as (type, (1,)) / '(1,)type'.\n",
      "  _np_qint16 = np.dtype([(\"qint16\", np.int16, 1)])\n",
      "C:\\Users\\RAMKI ASMATH\\anaconda3\\lib\\site-packages\\tensorboard\\compat\\tensorflow_stub\\dtypes.py:544: FutureWarning: Passing (type, 1) or '1type' as a synonym of type is deprecated; in a future version of numpy, it will be understood as (type, (1,)) / '(1,)type'.\n",
      "  _np_quint16 = np.dtype([(\"quint16\", np.uint16, 1)])\n",
      "C:\\Users\\RAMKI ASMATH\\anaconda3\\lib\\site-packages\\tensorboard\\compat\\tensorflow_stub\\dtypes.py:545: FutureWarning: Passing (type, 1) or '1type' as a synonym of type is deprecated; in a future version of numpy, it will be understood as (type, (1,)) / '(1,)type'.\n",
      "  _np_qint32 = np.dtype([(\"qint32\", np.int32, 1)])\n",
      "C:\\Users\\RAMKI ASMATH\\anaconda3\\lib\\site-packages\\tensorboard\\compat\\tensorflow_stub\\dtypes.py:550: FutureWarning: Passing (type, 1) or '1type' as a synonym of type is deprecated; in a future version of numpy, it will be understood as (type, (1,)) / '(1,)type'.\n",
      "  np_resource = np.dtype([(\"resource\", np.ubyte, 1)])\n"
     ]
    }
   ],
   "source": [
    "from keras.models import Sequential\n",
    "from keras.layers import Dense\n",
    "from keras.layers import MaxPooling2D\n",
    "from keras.layers import Conv2D\n",
    "from keras.layers import Flatten"
   ]
  },
  {
   "cell_type": "markdown",
   "metadata": {},
   "source": [
    "# Initializing the model"
   ]
  },
  {
   "cell_type": "code",
   "execution_count": 2,
   "metadata": {},
   "outputs": [
    {
     "name": "stdout",
     "output_type": "stream",
     "text": [
      "WARNING:tensorflow:From C:\\Users\\RAMKI ASMATH\\anaconda3\\lib\\site-packages\\keras\\backend\\tensorflow_backend.py:74: The name tf.get_default_graph is deprecated. Please use tf.compat.v1.get_default_graph instead.\n",
      "\n"
     ]
    }
   ],
   "source": [
    "model=Sequential()"
   ]
  },
  {
   "cell_type": "markdown",
   "metadata": {},
   "source": [
    "# Adding all the req. layers"
   ]
  },
  {
   "cell_type": "code",
   "execution_count": 3,
   "metadata": {},
   "outputs": [
    {
     "name": "stdout",
     "output_type": "stream",
     "text": [
      "WARNING:tensorflow:From C:\\Users\\RAMKI ASMATH\\anaconda3\\lib\\site-packages\\keras\\backend\\tensorflow_backend.py:517: The name tf.placeholder is deprecated. Please use tf.compat.v1.placeholder instead.\n",
      "\n",
      "WARNING:tensorflow:From C:\\Users\\RAMKI ASMATH\\anaconda3\\lib\\site-packages\\keras\\backend\\tensorflow_backend.py:4138: The name tf.random_uniform is deprecated. Please use tf.random.uniform instead.\n",
      "\n",
      "WARNING:tensorflow:From C:\\Users\\RAMKI ASMATH\\anaconda3\\lib\\site-packages\\keras\\backend\\tensorflow_backend.py:3976: The name tf.nn.max_pool is deprecated. Please use tf.nn.max_pool2d instead.\n",
      "\n"
     ]
    },
    {
     "name": "stderr",
     "output_type": "stream",
     "text": [
      "C:\\Users\\RAMKI ASMATH\\anaconda3\\lib\\site-packages\\ipykernel_launcher.py:1: UserWarning: Update your `Conv2D` call to the Keras 2 API: `Conv2D(32, (3, 3), input_shape=(64, 64, 3..., activation=\"relu\")`\n",
      "  \"\"\"Entry point for launching an IPython kernel.\n",
      "C:\\Users\\RAMKI ASMATH\\anaconda3\\lib\\site-packages\\ipykernel_launcher.py:4: UserWarning: Update your `Dense` call to the Keras 2 API: `Dense(activation=\"relu\", units=128, kernel_initializer=\"random_uniform\")`\n",
      "  after removing the cwd from sys.path.\n",
      "C:\\Users\\RAMKI ASMATH\\anaconda3\\lib\\site-packages\\ipykernel_launcher.py:5: UserWarning: Update your `Dense` call to the Keras 2 API: `Dense(activation=\"relu\", units=64, kernel_initializer=\"random_uniform\")`\n",
      "  \"\"\"\n",
      "C:\\Users\\RAMKI ASMATH\\anaconda3\\lib\\site-packages\\ipykernel_launcher.py:6: UserWarning: Update your `Dense` call to the Keras 2 API: `Dense(activation=\"relu\", units=32, kernel_initializer=\"random_uniform\")`\n",
      "  \n",
      "C:\\Users\\RAMKI ASMATH\\anaconda3\\lib\\site-packages\\ipykernel_launcher.py:7: UserWarning: Update your `Dense` call to the Keras 2 API: `Dense(activation=\"relu\", units=18, kernel_initializer=\"random_uniform\")`\n",
      "  import sys\n",
      "C:\\Users\\RAMKI ASMATH\\anaconda3\\lib\\site-packages\\ipykernel_launcher.py:8: UserWarning: Update your `Dense` call to the Keras 2 API: `Dense(activation=\"softmax\", units=5, kernel_initializer=\"random_uniform\")`\n",
      "  \n"
     ]
    }
   ],
   "source": [
    "model.add(Conv2D(32,3,3,input_shape=(64,64,3),activation='relu'))\n",
    "model.add(MaxPooling2D(pool_size=(2,2)))\n",
    "model.add(Flatten())\n",
    "model.add(Dense(output_dim=128,activation='relu',init='random_uniform'))\n",
    "model.add(Dense(output_dim=64,activation='relu',init='random_uniform'))\n",
    "model.add(Dense(output_dim=32,activation='relu',init='random_uniform'))\n",
    "model.add(Dense(output_dim=18,activation='relu',init='random_uniform'))\n",
    "model.add(Dense(output_dim=5,activation='softmax',init='random_uniform'))"
   ]
  },
  {
   "cell_type": "markdown",
   "metadata": {},
   "source": [
    "# Summary of the layers added"
   ]
  },
  {
   "cell_type": "code",
   "execution_count": 4,
   "metadata": {},
   "outputs": [
    {
     "name": "stdout",
     "output_type": "stream",
     "text": [
      "_________________________________________________________________\n",
      "Layer (type)                 Output Shape              Param #   \n",
      "=================================================================\n",
      "conv2d_1 (Conv2D)            (None, 62, 62, 32)        896       \n",
      "_________________________________________________________________\n",
      "max_pooling2d_1 (MaxPooling2 (None, 31, 31, 32)        0         \n",
      "_________________________________________________________________\n",
      "flatten_1 (Flatten)          (None, 30752)             0         \n",
      "_________________________________________________________________\n",
      "dense_1 (Dense)              (None, 128)               3936384   \n",
      "_________________________________________________________________\n",
      "dense_2 (Dense)              (None, 64)                8256      \n",
      "_________________________________________________________________\n",
      "dense_3 (Dense)              (None, 32)                2080      \n",
      "_________________________________________________________________\n",
      "dense_4 (Dense)              (None, 18)                594       \n",
      "_________________________________________________________________\n",
      "dense_5 (Dense)              (None, 5)                 95        \n",
      "=================================================================\n",
      "Total params: 3,948,305\n",
      "Trainable params: 3,948,305\n",
      "Non-trainable params: 0\n",
      "_________________________________________________________________\n"
     ]
    }
   ],
   "source": [
    "model.summary()"
   ]
  },
  {
   "cell_type": "code",
   "execution_count": 5,
   "metadata": {},
   "outputs": [
    {
     "name": "stdout",
     "output_type": "stream",
     "text": [
      "WARNING:tensorflow:From C:\\Users\\RAMKI ASMATH\\anaconda3\\lib\\site-packages\\keras\\optimizers.py:790: The name tf.train.Optimizer is deprecated. Please use tf.compat.v1.train.Optimizer instead.\n",
      "\n",
      "WARNING:tensorflow:From C:\\Users\\RAMKI ASMATH\\anaconda3\\lib\\site-packages\\keras\\backend\\tensorflow_backend.py:3341: The name tf.log is deprecated. Please use tf.math.log instead.\n",
      "\n"
     ]
    }
   ],
   "source": [
    "model.compile(optimizer='adam',loss='sparse_categorical_crossentropy',metrics=['accuracy'])"
   ]
  },
  {
   "cell_type": "code",
   "execution_count": 6,
   "metadata": {},
   "outputs": [],
   "source": [
    "from keras.preprocessing.image import ImageDataGenerator"
   ]
  },
  {
   "cell_type": "code",
   "execution_count": 7,
   "metadata": {},
   "outputs": [],
   "source": [
    "train_datagen=ImageDataGenerator(rescale=1./255,shear_range=0.2,zoom_range=0.2,horizontal_flip=True)\n",
    "test_datagen=ImageDataGenerator(rescale=1./255)"
   ]
  },
  {
   "cell_type": "markdown",
   "metadata": {},
   "source": [
    "# Getting the training & testing data in batches of 18"
   ]
  },
  {
   "cell_type": "code",
   "execution_count": 8,
   "metadata": {},
   "outputs": [
    {
     "name": "stdout",
     "output_type": "stream",
     "text": [
      "Found 1400 images belonging to 5 classes.\n"
     ]
    }
   ],
   "source": [
    "x_train=train_datagen.flow_from_directory(r\"C:\\Users\\RAMKI ASMATH\\Desktop\\Skin_Disease\\dataset\\train_set\",target_size=(64,64),batch_size=12,class_mode='sparse')"
   ]
  },
  {
   "cell_type": "code",
   "execution_count": 9,
   "metadata": {},
   "outputs": [
    {
     "name": "stdout",
     "output_type": "stream",
     "text": [
      "Found 329 images belonging to 5 classes.\n"
     ]
    }
   ],
   "source": [
    "x_test=test_datagen.flow_from_directory(r\"C:\\Users\\RAMKI ASMATH\\Desktop\\Skin_Disease\\dataset\\test_set\",target_size=(64,64),batch_size=12,class_mode='sparse')"
   ]
  },
  {
   "cell_type": "code",
   "execution_count": 10,
   "metadata": {
    "scrolled": true
   },
   "outputs": [
    {
     "name": "stdout",
     "output_type": "stream",
     "text": [
      "{'actinic keratosis': 0, 'melanoma': 1, 'nevus': 2, 'pigmented benign keratosis': 3, 'vascular lesion': 4}\n"
     ]
    }
   ],
   "source": [
    "print(x_train.class_indices)"
   ]
  },
  {
   "cell_type": "markdown",
   "metadata": {},
   "source": [
    "# Fitting the model "
   ]
  },
  {
   "cell_type": "code",
   "execution_count": 11,
   "metadata": {},
   "outputs": [
    {
     "name": "stdout",
     "output_type": "stream",
     "text": [
      "WARNING:tensorflow:From C:\\Users\\RAMKI ASMATH\\anaconda3\\lib\\site-packages\\tensorflow\\python\\ops\\math_grad.py:1250: add_dispatch_support.<locals>.wrapper (from tensorflow.python.ops.array_ops) is deprecated and will be removed in a future version.\n",
      "Instructions for updating:\n",
      "Use tf.where in 2.0, which has the same broadcast rule as np.where\n",
      "WARNING:tensorflow:From C:\\Users\\RAMKI ASMATH\\anaconda3\\lib\\site-packages\\keras\\backend\\tensorflow_backend.py:986: The name tf.assign_add is deprecated. Please use tf.compat.v1.assign_add instead.\n",
      "\n"
     ]
    },
    {
     "name": "stderr",
     "output_type": "stream",
     "text": [
      "C:\\Users\\RAMKI ASMATH\\anaconda3\\lib\\site-packages\\ipykernel_launcher.py:1: UserWarning: The semantics of the Keras 2 argument `steps_per_epoch` is not the same as the Keras 1 argument `samples_per_epoch`. `steps_per_epoch` is the number of batches to draw from the generator at each epoch. Basically steps_per_epoch = samples_per_epoch/batch_size. Similarly `nb_val_samples`->`validation_steps` and `val_samples`->`steps` arguments have changed. Update your method calls accordingly.\n",
      "  \"\"\"Entry point for launching an IPython kernel.\n",
      "C:\\Users\\RAMKI ASMATH\\anaconda3\\lib\\site-packages\\ipykernel_launcher.py:1: UserWarning: Update your `fit_generator` call to the Keras 2 API: `fit_generator(<keras_pre..., epochs=50, validation_data=<keras_pre..., steps_per_epoch=116, validation_steps=329)`\n",
      "  \"\"\"Entry point for launching an IPython kernel.\n"
     ]
    },
    {
     "name": "stdout",
     "output_type": "stream",
     "text": [
      "Epoch 1/50\n",
      "116/116 [==============================] - 449s 4s/step - loss: 1.4950 - acc: 0.2852 - val_loss: 1.5242 - val_acc: 0.2428\n",
      "Epoch 2/50\n",
      "116/116 [==============================] - 450s 4s/step - loss: 1.4589 - acc: 0.2848 - val_loss: 1.4857 - val_acc: 0.3313\n",
      "Epoch 3/50\n",
      "116/116 [==============================] - 463s 4s/step - loss: 1.3501 - acc: 0.3452 - val_loss: 1.3314 - val_acc: 0.3111\n",
      "Epoch 4/50\n",
      "116/116 [==============================] - 448s 4s/step - loss: 1.2276 - acc: 0.4501 - val_loss: 1.3497 - val_acc: 0.3129\n",
      "Epoch 5/50\n",
      "116/116 [==============================] - 386s 3s/step - loss: 1.2092 - acc: 0.4264 - val_loss: 1.2737 - val_acc: 0.3526\n",
      "Epoch 6/50\n",
      "116/116 [==============================] - 376s 3s/step - loss: 1.1957 - acc: 0.4738 - val_loss: 1.2425 - val_acc: 0.4679\n",
      "Epoch 7/50\n",
      "116/116 [==============================] - 387s 3s/step - loss: 1.1228 - acc: 0.4820 - val_loss: 1.0733 - val_acc: 0.4304\n",
      "Epoch 8/50\n",
      "116/116 [==============================] - 382s 3s/step - loss: 1.0531 - acc: 0.5000 - val_loss: 1.0396 - val_acc: 0.4356\n",
      "Epoch 9/50\n",
      "116/116 [==============================] - 384s 3s/step - loss: 1.0063 - acc: 0.5241 - val_loss: 1.0681 - val_acc: 0.4634\n",
      "Epoch 10/50\n",
      "116/116 [==============================] - 379s 3s/step - loss: 0.9876 - acc: 0.5269 - val_loss: 1.0054 - val_acc: 0.4488\n",
      "Epoch 11/50\n",
      "116/116 [==============================] - 443s 4s/step - loss: 0.9371 - acc: 0.5679 - val_loss: 0.9529 - val_acc: 0.5060\n",
      "Epoch 12/50\n",
      "116/116 [==============================] - 475s 4s/step - loss: 0.9046 - acc: 0.6250 - val_loss: 1.1886 - val_acc: 0.3344\n",
      "Epoch 13/50\n",
      "116/116 [==============================] - 453s 4s/step - loss: 0.8873 - acc: 0.6494 - val_loss: 1.5824 - val_acc: 0.2583\n",
      "Epoch 14/50\n",
      "116/116 [==============================] - 443s 4s/step - loss: 0.8180 - acc: 0.6774 - val_loss: 1.6141 - val_acc: 0.3054\n",
      "Epoch 15/50\n",
      "116/116 [==============================] - 377s 3s/step - loss: 0.7978 - acc: 0.6810 - val_loss: 1.4563 - val_acc: 0.3758\n",
      "Epoch 16/50\n",
      "116/116 [==============================] - 380s 3s/step - loss: 0.8215 - acc: 0.6681 - val_loss: 1.4334 - val_acc: 0.3690\n",
      "Epoch 17/50\n",
      "116/116 [==============================] - 380s 3s/step - loss: 0.7916 - acc: 0.7062 - val_loss: 1.2237 - val_acc: 0.3839\n",
      "Epoch 18/50\n",
      "116/116 [==============================] - 377s 3s/step - loss: 0.7731 - acc: 0.6843 - val_loss: 1.3514 - val_acc: 0.3597\n",
      "Epoch 19/50\n",
      "116/116 [==============================] - 382s 3s/step - loss: 0.7472 - acc: 0.7011 - val_loss: 1.5009 - val_acc: 0.3499\n",
      "Epoch 20/50\n",
      "116/116 [==============================] - 381s 3s/step - loss: 0.7334 - acc: 0.7137 - val_loss: 1.5074 - val_acc: 0.4053\n",
      "Epoch 21/50\n",
      "116/116 [==============================] - 376s 3s/step - loss: 0.7243 - acc: 0.7101 - val_loss: 1.5242 - val_acc: 0.3831\n",
      "Epoch 22/50\n",
      "116/116 [==============================] - 374s 3s/step - loss: 0.7103 - acc: 0.7108 - val_loss: 1.5037 - val_acc: 0.4133\n",
      "Epoch 23/50\n",
      "116/116 [==============================] - 375s 3s/step - loss: 0.6653 - acc: 0.7328 - val_loss: 1.5039 - val_acc: 0.3967\n",
      "Epoch 24/50\n",
      "116/116 [==============================] - 2541s 22s/step - loss: 0.6560 - acc: 0.7349 - val_loss: 1.7223 - val_acc: 0.3934\n",
      "Epoch 25/50\n",
      "116/116 [==============================] - 392s 3s/step - loss: 0.6879 - acc: 0.7198 - val_loss: 1.4719 - val_acc: 0.3862\n",
      "Epoch 26/50\n",
      "116/116 [==============================] - 382s 3s/step - loss: 0.6552 - acc: 0.7313 - val_loss: 1.3410 - val_acc: 0.3843\n",
      "Epoch 27/50\n",
      "116/116 [==============================] - 379s 3s/step - loss: 0.6798 - acc: 0.7306 - val_loss: 1.6089 - val_acc: 0.3797\n",
      "Epoch 28/50\n",
      "116/116 [==============================] - 375s 3s/step - loss: 0.6396 - acc: 0.7478 - val_loss: 1.4212 - val_acc: 0.4094\n",
      "Epoch 29/50\n",
      "116/116 [==============================] - 378s 3s/step - loss: 0.5980 - acc: 0.7636 - val_loss: 1.6886 - val_acc: 0.4164\n",
      "Epoch 30/50\n",
      "116/116 [==============================] - 376s 3s/step - loss: 0.5950 - acc: 0.7604 - val_loss: 1.7673 - val_acc: 0.3998\n",
      "Epoch 31/50\n",
      "116/116 [==============================] - 380s 3s/step - loss: 0.6192 - acc: 0.7457 - val_loss: 1.5536 - val_acc: 0.4495\n",
      "Epoch 32/50\n",
      "116/116 [==============================] - 375s 3s/step - loss: 0.6425 - acc: 0.7471 - val_loss: 1.5351 - val_acc: 0.3703\n",
      "Epoch 33/50\n",
      "116/116 [==============================] - 572s 5s/step - loss: 0.6381 - acc: 0.7371 - val_loss: 1.3719 - val_acc: 0.4208\n",
      "Epoch 34/50\n",
      "116/116 [==============================] - 549s 5s/step - loss: 0.5800 - acc: 0.7676 - val_loss: 1.6792 - val_acc: 0.3659\n",
      "Epoch 35/50\n",
      "116/116 [==============================] - 666s 6s/step - loss: 0.6162 - acc: 0.7489 - val_loss: 1.6702 - val_acc: 0.3590\n",
      "Epoch 36/50\n",
      "116/116 [==============================] - 579s 5s/step - loss: 0.6592 - acc: 0.7292 - val_loss: 1.3533 - val_acc: 0.4009\n",
      "Epoch 37/50\n",
      "116/116 [==============================] - 586s 5s/step - loss: 0.6316 - acc: 0.7496 - val_loss: 1.9306 - val_acc: 0.3692\n",
      "Epoch 38/50\n",
      "116/116 [==============================] - 553s 5s/step - loss: 0.5940 - acc: 0.7601 - val_loss: 1.5953 - val_acc: 0.3797\n",
      "Epoch 39/50\n",
      "116/116 [==============================] - 392s 3s/step - loss: 0.5499 - acc: 0.7798 - val_loss: 1.4743 - val_acc: 0.4097\n",
      "Epoch 40/50\n",
      "116/116 [==============================] - 479s 4s/step - loss: 0.5627 - acc: 0.7866 - val_loss: 1.7123 - val_acc: 0.3491\n",
      "Epoch 41/50\n",
      "116/116 [==============================] - 1940s 17s/step - loss: 0.5731 - acc: 0.7759 - val_loss: 1.6417 - val_acc: 0.4557\n",
      "Epoch 42/50\n",
      "116/116 [==============================] - 385s 3s/step - loss: 0.5542 - acc: 0.7723 - val_loss: 1.4807 - val_acc: 0.4381\n",
      "Epoch 43/50\n",
      "116/116 [==============================] - 386s 3s/step - loss: 0.5353 - acc: 0.7820 - val_loss: 1.6627 - val_acc: 0.3890\n",
      "Epoch 44/50\n",
      "116/116 [==============================] - 379s 3s/step - loss: 0.5202 - acc: 0.7938 - val_loss: 1.4743 - val_acc: 0.3841\n",
      "Epoch 45/50\n",
      "116/116 [==============================] - 449s 4s/step - loss: 0.5104 - acc: 0.7917 - val_loss: 1.9944 - val_acc: 0.4069\n",
      "Epoch 46/50\n",
      "116/116 [==============================] - 448s 4s/step - loss: 0.5298 - acc: 0.7960 - val_loss: 1.5402 - val_acc: 0.4138\n",
      "Epoch 47/50\n",
      "116/116 [==============================] - 435s 4s/step - loss: 0.5418 - acc: 0.7870 - val_loss: 1.5340 - val_acc: 0.4141\n",
      "Epoch 48/50\n",
      "116/116 [==============================] - 468s 4s/step - loss: 0.5201 - acc: 0.7881 - val_loss: 1.6848 - val_acc: 0.4133\n",
      "Epoch 49/50\n",
      "116/116 [==============================] - 396s 3s/step - loss: 0.4934 - acc: 0.8082 - val_loss: 1.4275 - val_acc: 0.4004\n",
      "Epoch 50/50\n",
      "116/116 [==============================] - 386s 3s/step - loss: 0.5032 - acc: 0.8028 - val_loss: 1.7272 - val_acc: 0.4213\n"
     ]
    },
    {
     "data": {
      "text/plain": [
       "<keras.callbacks.History at 0x1d796270d88>"
      ]
     },
     "execution_count": 11,
     "metadata": {},
     "output_type": "execute_result"
    }
   ],
   "source": [
    "model.fit_generator(x_train,samples_per_epoch=1400,epochs=50,validation_data=x_test,nb_val_samples=329)"
   ]
  },
  {
   "cell_type": "code",
   "execution_count": 12,
   "metadata": {},
   "outputs": [],
   "source": [
    "model.save('project-test.h5')"
   ]
  },
  {
   "cell_type": "markdown",
   "metadata": {},
   "source": [
    "# PREDICTION"
   ]
  },
  {
   "cell_type": "code",
   "execution_count": 13,
   "metadata": {},
   "outputs": [],
   "source": [
    "from keras.models import load_model\n",
    "import numpy as np"
   ]
  },
  {
   "cell_type": "code",
   "execution_count": 14,
   "metadata": {},
   "outputs": [],
   "source": [
    "import cv2"
   ]
  },
  {
   "cell_type": "code",
   "execution_count": 15,
   "metadata": {},
   "outputs": [],
   "source": [
    "pred_model=load_model('project-test.h5')"
   ]
  },
  {
   "cell_type": "code",
   "execution_count": 16,
   "metadata": {},
   "outputs": [],
   "source": [
    "from skimage.transform import resize"
   ]
  },
  {
   "cell_type": "code",
   "execution_count": 17,
   "metadata": {},
   "outputs": [],
   "source": [
    "def detect(frame):\n",
    "    try:\n",
    "        img=resize(frame,(64,64))\n",
    "        img=np.expand_dims(img,axis=0)\n",
    "        if(np.max(img)>1):\n",
    "            img=img/255.0\n",
    "        prediction=model.predict(img)\n",
    "        print(prediction)\n",
    "        print(model.predict_classes(img))\n",
    "    except AttributeError:\n",
    "        print(\"Shape not found\")\n",
    "    \n",
    "    "
   ]
  },
  {
   "cell_type": "code",
   "execution_count": 18,
   "metadata": {},
   "outputs": [
    {
     "name": "stdout",
     "output_type": "stream",
     "text": [
      "{'actinic keratosis': 0, 'melanoma': 1, 'nevus': 2, 'pigmented benign keratosis': 3, 'vascular lesion': 4}\n"
     ]
    }
   ],
   "source": [
    "print(x_train.class_indices)"
   ]
  },
  {
   "cell_type": "code",
   "execution_count": 19,
   "metadata": {},
   "outputs": [
    {
     "name": "stdout",
     "output_type": "stream",
     "text": [
      "[[2.3678211e-03 1.6387080e-06 2.6909790e-03 2.5725216e-01 7.3768741e-01]]\n",
      "[4]\n"
     ]
    }
   ],
   "source": [
    "frame=cv2.imread(r'C:\\Users\\RAMKI ASMATH\\Desktop\\Skin_Disease\\dataset\\test_set\\actinic keratosis\\ISIC_0030825.jpg')\n",
    "data=detect(frame)"
   ]
  },
  {
   "cell_type": "code",
   "execution_count": 20,
   "metadata": {},
   "outputs": [
    {
     "name": "stdout",
     "output_type": "stream",
     "text": [
      "[[2.3826227e-07 9.2986673e-02 8.9975792e-01 7.2551025e-03 5.9205596e-10]]\n",
      "[2]\n"
     ]
    }
   ],
   "source": [
    "frame2=cv2.imread(r'C:\\Users\\RAMKI ASMATH\\Desktop\\Skin_Disease\\dataset\\test_set\\nevus\\ISIC_0000563.jpg')\n",
    "data=detect(frame2)"
   ]
  },
  {
   "cell_type": "code",
   "execution_count": 21,
   "metadata": {},
   "outputs": [
    {
     "name": "stdout",
     "output_type": "stream",
     "text": [
      "[[0.01387856 0.72969365 0.10510518 0.11672827 0.03459432]]\n",
      "[1]\n"
     ]
    }
   ],
   "source": [
    "frame3=cv2.imread(r'C:\\Users\\RAMKI ASMATH\\Desktop\\Skin_Disease\\dataset\\test_set\\melanoma\\ISIC_0000016.jpg')\n",
    "data=detect(frame3)"
   ]
  },
  {
   "cell_type": "code",
   "execution_count": 22,
   "metadata": {},
   "outputs": [
    {
     "name": "stdout",
     "output_type": "stream",
     "text": [
      "[[0.00150117 0.00127262 0.08472186 0.10437442 0.8081299 ]]\n",
      "[4]\n"
     ]
    }
   ],
   "source": [
    "frame3=cv2.imread(r'C:\\Users\\RAMKI ASMATH\\Desktop\\Skin_Disease\\dataset\\test_set\\pigmented benign keratosis\\ISIC_0024324.jpg')\n",
    "data=detect(frame3)"
   ]
  },
  {
   "cell_type": "code",
   "execution_count": 23,
   "metadata": {},
   "outputs": [
    {
     "name": "stdout",
     "output_type": "stream",
     "text": [
      "[[2.4257598e-03 6.7710975e-04 7.3315106e-02 9.1962612e-01 3.9559077e-03]]\n",
      "[3]\n"
     ]
    }
   ],
   "source": [
    "frame3=cv2.imread(r'C:\\Users\\RAMKI ASMATH\\Desktop\\Skin_Disease\\dataset\\test_set\\vascular lesion\\ISIC_0032890.jpg')\n",
    "data=detect(frame3)"
   ]
  },
  {
   "cell_type": "code",
   "execution_count": null,
   "metadata": {},
   "outputs": [],
   "source": []
  }
 ],
 "metadata": {
  "kernelspec": {
   "display_name": "Python 3",
   "language": "python",
   "name": "python3"
  },
  "language_info": {
   "codemirror_mode": {
    "name": "ipython",
    "version": 3
   },
   "file_extension": ".py",
   "mimetype": "text/x-python",
   "name": "python",
   "nbconvert_exporter": "python",
   "pygments_lexer": "ipython3",
   "version": "3.7.7"
  }
 },
 "nbformat": 4,
 "nbformat_minor": 4
}
